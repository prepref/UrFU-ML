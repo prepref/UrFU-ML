{
 "cells": [
  {
   "cell_type": "markdown",
   "metadata": {
    "id": "M-DGa20PaHnu"
   },
   "source": [
    "# Задача 1\n",
    "Написать функцию на вход которой подается строка, состоящая из латинских букв.\n",
    "Функция должна вернуть количество гласных букв (a, e, i, o, u) в этой строке. Написать тесты для кода"
   ]
  },
  {
   "cell_type": "code",
   "execution_count": 85,
   "metadata": {
    "id": "XvX8X_JJ6PCb"
   },
   "outputs": [
    {
     "name": "stdout",
     "output_type": "stream",
     "text": [
      "0 = 0\n",
      "2 = 2\n",
      "0 = 0\n"
     ]
    }
   ],
   "source": [
    "def count_letters(s:str) -> int:\n",
    "    count = 0\n",
    "    for i in s:\n",
    "        if i in \"aeiou\":\n",
    "            count+=1\n",
    "    \n",
    "    return count\n",
    "\n",
    "print(count_letters(\"\"), \"= 0\")\n",
    "print(count_letters(\"hello\"), \"= 2\")\n",
    "print(count_letters(\"ttttt\"), \"= 0\")"
   ]
  },
  {
   "cell_type": "markdown",
   "metadata": {
    "id": "t2ClV_Y0bbr6"
   },
   "source": [
    "# Задача 2\n",
    "Написать функцию на вход, которой подается строка. Функция должна вернуть true, если\n",
    "каждый символ в строке встречается только 1 раз, иначе должна вернуть false. Написать тесты для кода"
   ]
  },
  {
   "cell_type": "code",
   "execution_count": 86,
   "metadata": {
    "id": "FppbECao6VIz"
   },
   "outputs": [
    {
     "name": "stdout",
     "output_type": "stream",
     "text": [
      "False = False\n",
      "False = False\n",
      "True = True\n"
     ]
    }
   ],
   "source": [
    "def is_repeats(s:str) -> bool:    \n",
    "    if len(s) == 0:\n",
    "        return False\n",
    "    \n",
    "    return True if len(set(s)) == len(s) else False\n",
    "\n",
    "print(is_repeats(\"\"), \"= False\")\n",
    "print(is_repeats(\"hello\"), \"= False\")\n",
    "print(is_repeats(\"the\"), \"= True\")"
   ]
  },
  {
   "cell_type": "markdown",
   "metadata": {
    "id": "udRiIK1cdt6E"
   },
   "source": [
    "# Задача 3\n",
    "Написать функцию, которая принимает положительное число и возвращает количество\n",
    "бит равных 1 в этом числе. Написать тесты для кода"
   ]
  },
  {
   "cell_type": "code",
   "execution_count": 121,
   "metadata": {
    "id": "6tkfDJRz6dp_"
   },
   "outputs": [
    {
     "name": "stdout",
     "output_type": "stream",
     "text": [
      "num must be positive = num must be positive\n",
      "10 1 = 1\n",
      "0 0 = 0\n",
      "1010 2 = 2\n"
     ]
    }
   ],
   "source": [
    "def get_bit(num: int):\n",
    "    if num < 0:\n",
    "        return \"num must be positive\"\n",
    "    return bin(num).count('1')\n",
    "\n",
    "print(get_bit(-2), \"= num must be positive\")\n",
    "print(bin(2)[2:], get_bit(2), \"= 1\")\n",
    "print(bin(0)[2:], get_bit(0), \"= 0\")\n",
    "print(bin(10)[2:], get_bit(10), \"= 2\")"
   ]
  },
  {
   "cell_type": "markdown",
   "metadata": {
    "id": "26dDUz-Ae17N"
   },
   "source": [
    "# Задача 4\n",
    "Написать функцию, которая принимает положительное число. Функция должна вернуть то,\n",
    "сколько раз необходимо перемножать цифры числа или результат перемножения, чтобы\n",
    "получилось число состоящее из одной цифры.\n",
    "Например, для входного числа:\n",
    "· 39 функция должна вернуть 3, так как 3*9=27 => 2*7=14 => 1*4=4\n",
    "· 4 функция должна вернуть 0, так как число уже состоит из одной цифры\n",
    "· 999 функция должна вернуть 4, так как 9*9*9=729 => 7*2*9=126 => 1*2*6=12 =>\n",
    "1*2=2. Написать тесты для кода"
   ]
  },
  {
   "cell_type": "code",
   "execution_count": 123,
   "metadata": {
    "id": "BH1A_Mgi6i4G"
   },
   "outputs": [
    {
     "name": "stdout",
     "output_type": "stream",
     "text": [
      "3*9=27; 2*7=14; 1*4=4\n",
      "3 = 3\n",
      "\n",
      "4\n",
      "0 = 0\n",
      "\n",
      "9*9*9=729; 7*2*9=126; 1*2*6=12; 1*2=2\n",
      "4 = 4\n"
     ]
    }
   ],
   "source": [
    "def magic(n):\n",
    "    res = 1\n",
    "    count = 0\n",
    "    while n > 10:\n",
    "        s = str(n)\n",
    "        for i in s:\n",
    "            res *= int(i)\n",
    "            \n",
    "        n, res = res, 1\n",
    "        count += 1\n",
    "    \n",
    "    return count\n",
    "\n",
    "print(\"3*9=27; 2*7=14; 1*4=4\")\n",
    "print(magic(39), \"= 3\")\n",
    "print()\n",
    "print(\"4\")\n",
    "print(magic(4), \"= 0\")\n",
    "print()\n",
    "print(\"9*9*9=729; 7*2*9=126; 1*2*6=12; 1*2=2\")\n",
    "print(magic(999), \"= 4\")"
   ]
  },
  {
   "cell_type": "markdown",
   "metadata": {
    "id": "0nS-kIa8g8vd"
   },
   "source": [
    "# Задача 5\n",
    "Написать функцию, которая принимает два целочисленных вектора одинаковой длины и\n",
    "возвращает среднеквадратическое отклонение двух векторов. Написать тесты для кода"
   ]
  },
  {
   "cell_type": "code",
   "execution_count": 130,
   "metadata": {
    "id": "8iphx4LM6xbx"
   },
   "outputs": [
    {
     "name": "stdout",
     "output_type": "stream",
     "text": [
      "[2,1]-[1,2]=[1,-1] -> [1,-1]^2 = [1,1] -> mean=(1+1)/2=1 -> sqrt(1)=1\n",
      "1.0 = 1.0\n",
      "\n",
      "vectors must be not empty = vectors must be not empty\n",
      "\n",
      "sqrt(3^2+2^2) != sqrt(2^2 + 1^2)\n",
      "vectors must be the same length = vectors must be the same length\n"
     ]
    }
   ],
   "source": [
    "import numpy as np\n",
    "\n",
    "def mse(pred, true):\n",
    "    length_pred = 0\n",
    "    length_true = 0\n",
    "    for i in pred:\n",
    "        length_pred += i**2\n",
    "    for i in true:\n",
    "        length_true += i**2\n",
    "        \n",
    "    if length_pred**0.5 != length_true**0.5:\n",
    "        return \"vectors must be the same length\"\n",
    "    \n",
    "    if len(pred) == 0:\n",
    "        return \"vectors must be not empty\"\n",
    "    \n",
    "    mse_deviation = np.sqrt(np.mean((true-pred)**2))\n",
    "    \n",
    "    return mse_deviation\n",
    "\n",
    "print(\"[2,1]-[1,2]=[1,-1] -> [1,-1]^2 = [1,1] -> mean=(1+1)/2=1 -> sqrt(1)=1\")\n",
    "print(mse(np.array([1,2]),np.array([2,1])), \"= 1.0\")\n",
    "print()\n",
    "print(mse(np.array([]),np.array([])), \"= vectors must be not empty\")\n",
    "print()\n",
    "print(\"sqrt(3^2+2^2) != sqrt(2^2 + 1^2)\")\n",
    "print(mse(np.array([3,2]),np.array([2,1])), \"= vectors must be the same length\")"
   ]
  },
  {
   "cell_type": "markdown",
   "metadata": {
    "id": "vpIPKL439zkw"
   },
   "source": [
    "# Задача 6\n",
    "Написать функцию, принимающая целое положительное число. Функция должна вернуть\n",
    "строку вида “(n1**p1)(n2**p2)…(nk**pk)” представляющая разложение числа на простые\n",
    "множители (если pi == 1, то выводить только ni).\n",
    "Например, для числа 86240 функция должна вернуть “(2**5)(5)(7**2)(11)”. Написать тесты для кода"
   ]
  },
  {
   "cell_type": "code",
   "execution_count": 90,
   "metadata": {
    "id": "pFebmcZk94Jw"
   },
   "outputs": [
    {
     "name": "stdout",
     "output_type": "stream",
     "text": [
      "[2, 2, 2, 2, 2, 5, 7, 7, 11] = [2, 2, 2, 2, 2, 5, 7, 7, 11] True\n",
      "[] = [] True\n",
      "[3, 3, 3] = [3, 3, 3] True\n"
     ]
    }
   ],
   "source": [
    "def factorizeNumber (num):\n",
    "    \n",
    "    res = []\n",
    "    div = 2\n",
    "    while div * div <= num:\n",
    "        if num % div == 0:\n",
    "            res.append(div)\n",
    "            num //= div\n",
    "        else:\n",
    "            div += 1\n",
    "    if num > 1:\n",
    "        res.append(num)\n",
    "    return res\n",
    "\n",
    "test1 = factorizeNumber(86240)\n",
    "print(test1, \"= [2, 2, 2, 2, 2, 5, 7, 7, 11]\", test1 == [2, 2, 2, 2, 2, 5, 7, 7, 11])\n",
    "\n",
    "test2 = factorizeNumber(1)\n",
    "print(test2, \"= []\", test2 == [])\n",
    "\n",
    "test3 = factorizeNumber(27)\n",
    "print(test3, \"= [3, 3, 3]\", test3 == [3, 3, 3])"
   ]
  },
  {
   "cell_type": "markdown",
   "metadata": {
    "id": "ps2s0BudX7A2"
   },
   "source": [
    "# Задача 7\n",
    "Написать функцию, принимающая целое число n, задающее количество кубиков. Функция\n",
    "должна определить, можно ли из данного кол-ва кубиков построить пирамиду, то есть\n",
    "можно ли представить число n как 1^2+2^2+3^2+…+k^2. Если можно, то функция должна\n",
    "вернуть k, иначе строку “It is impossible”. Написать тесты для кода"
   ]
  },
  {
   "cell_type": "code",
   "execution_count": 118,
   "metadata": {
    "id": "3YPjEXxhX_YT"
   },
   "outputs": [
    {
     "name": "stdout",
     "output_type": "stream",
     "text": [
      "При n=14: 1^2 + 2^2 + 3^2 = 1 + 4 + 9 = 14 -> k=9\n",
      "9 = 9\n",
      "\n",
      "При n=15: 1^2 + 2^2 + 3^2 + 4^2 = 1 + 4 + 9 + 16 = 30 -> It is impossible\n",
      "It is impossible = It is impossible\n",
      "\n",
      "При n=1: 1^2 = 1 -> k=1\n",
      "1 = 1\n",
      "\n",
      "При n=2: 1^2 + 2^2 = 1 + 4 = 5 -> It is impossible\n",
      "It is impossible = It is impossible\n",
      "\n",
      "При n=5: 1^2 + 2^2 = 1 + 4 = 5 -> k=5\n",
      "4 = 4\n"
     ]
    }
   ],
   "source": [
    "def pyramid(number):\n",
    "    if number == 1:\n",
    "        return 1\n",
    "    sum = 0\n",
    "    for i in range(1,number//2+1):\n",
    "        sum += i**2\n",
    "        if sum == number:\n",
    "            return i**2\n",
    "    return \"It is impossible\"\n",
    "\n",
    "print(\"При n=14: 1^2 + 2^2 + 3^2 = 1 + 4 + 9 = 14 -> k=9\")\n",
    "print(pyramid(14), \"= 9\")\n",
    "print()\n",
    "print(\"При n=15: 1^2 + 2^2 + 3^2 + 4^2 = 1 + 4 + 9 + 16 = 30 -> It is impossible\")\n",
    "print(pyramid(15), \"= It is impossible\")\n",
    "print()\n",
    "print(\"При n=1: 1^2 = 1 -> k=1\")\n",
    "print(pyramid(1), \"= 1\")\n",
    "print()\n",
    "print(\"При n=2: 1^2 + 2^2 = 1 + 4 = 5 -> It is impossible\")\n",
    "print(pyramid(2), \"= It is impossible\")\n",
    "print()\n",
    "print(\"При n=5: 1^2 + 2^2 = 1 + 4 = 5 -> k=5\")\n",
    "print(pyramid(5), \"= 4\")\n"
   ]
  },
  {
   "cell_type": "markdown",
   "metadata": {
    "id": "KeKgmIdAQMEJ"
   },
   "source": [
    "# Задача 8\n",
    "Функция принимает на вход положительное число и определяет является ли оно сбалансированным, т.е. сумма цифр до средних равна сумме цифр после. Средними в случае нечетного числа цифр считать одну цифру, в случае четного - две средних. Написать тесты для кода"
   ]
  },
  {
   "cell_type": "code",
   "execution_count": 112,
   "metadata": {
    "id": "gMAAqtqlQrZt"
   },
   "outputs": [
    {
     "name": "stdout",
     "output_type": "stream",
     "text": [
      "10 10\n",
      "True = True\n",
      "10 10\n",
      "True = True\n",
      "1 3\n",
      "False = False\n"
     ]
    }
   ],
   "source": [
    "def is_balance(num):\n",
    "    s = str(num)\n",
    "    mid1,mid2 = \"\",\"\"\n",
    "    if len(s) % 2 != 0:\n",
    "        mid1 = s[len(s)//2]\n",
    "        mid2 = mid1\n",
    "    else:\n",
    "        mid1 = s[len(s)//2-1]\n",
    "        mid2 = s[len(s)//2]\n",
    "    \n",
    "    sum1, sum2 = 0, 0\n",
    "    for i in range(len(s)):\n",
    "        if s[i] != mid1:\n",
    "            sum1 += int(s[i])\n",
    "            sum2 += int(s[len(s)-1-i])\n",
    "        else:\n",
    "            break\n",
    "    print(sum1,sum2)\n",
    "    return True if sum1 == sum2 else False\n",
    "\n",
    "print(is_balance(553355), \"= True\")\n",
    "print(is_balance(55355), \"= True\")\n",
    "print(is_balance(123), \"= False\")"
   ]
  },
  {
   "cell_type": "code",
   "execution_count": null,
   "metadata": {},
   "outputs": [],
   "source": []
  }
 ],
 "metadata": {
  "colab": {
   "provenance": []
  },
  "kernelspec": {
   "display_name": "Python 3 (ipykernel)",
   "language": "python",
   "name": "python3"
  },
  "language_info": {
   "codemirror_mode": {
    "name": "ipython",
    "version": 3
   },
   "file_extension": ".py",
   "mimetype": "text/x-python",
   "name": "python",
   "nbconvert_exporter": "python",
   "pygments_lexer": "ipython3",
   "version": "3.11.4"
  }
 },
 "nbformat": 4,
 "nbformat_minor": 1
}
